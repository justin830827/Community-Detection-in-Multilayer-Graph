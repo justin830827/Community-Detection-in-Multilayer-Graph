{
 "cells": [
  {
   "cell_type": "code",
   "execution_count": 4,
   "metadata": {},
   "outputs": [],
   "source": [
    "import networkx as nx\n",
    "import numpy as np\n",
    "from scipy.cluster.vq import kmeans\n",
    "from scipy.sparse import csr_matrix\n"
   ]
  },
  {
   "cell_type": "code",
   "execution_count": 5,
   "metadata": {},
   "outputs": [],
   "source": [
    "def getU(lap,k):\n",
    "    eig_val, eig_vec = np.linalg.eig(lap)\n",
    "    top_indices = np.argsort(eig_val)[-k:]\n",
    "    top_vecs = [eig_vec[:,i].transpose() for i in top_indices]\n",
    "    return csr_matrix(np.vstack(top_vecs).T)"
   ]
  },
  {
   "cell_type": "code",
   "execution_count": 6,
   "metadata": {},
   "outputs": [],
   "source": [
    "def modifyLap(lap_list, U_list, alpha):\n",
    "    n = lap_list[0].shape[0]\n",
    "    uu_dash = [u.dot(u.T) for u in U_list]\n",
    "    lap_sum = np.zeros((n,n))\n",
    "    uu_sum = np.zeros((n,n))\n",
    "    for L in lap_list:\n",
    "        lap_sum = np.add(lap_sum,L.todense())\n",
    "    for u in uu_dash:\n",
    "        uu_sum = np.add(uu_sum,u.todense())\n",
    "    return np.subtract(lap_sum, alpha * uu_sum) "
   ]
  },
  {
   "cell_type": "code",
   "execution_count": 7,
   "metadata": {},
   "outputs": [],
   "source": [
    "def SCML(G,k,alpha):\n",
    "    number_graph_list=len(G)\n",
    "    lap_list = [nx.normalized_laplacian_matrix(g, nodelist = sorted(g.nodes()))for g in G]\n",
    "    U_list = [getU(l, k) for l in lap_list]\n",
    "    Lmod = modifyLap(lap_list,U_list, alpha)\n",
    "\n",
    "    U = getU(Lmod, k).real.todense()\n",
    "       \n",
    "    U = normalize(U, axis=1, norm='l1')\n",
    "     \n",
    "\n",
    "    centroids, labels = kmeans2(U,k,iter=20)\n",
    "\n",
    "    return labels"
   ]
  },
  {
   "cell_type": "code",
   "execution_count": null,
   "metadata": {},
   "outputs": [],
   "source": []
  },
  {
   "cell_type": "code",
   "execution_count": null,
   "metadata": {},
   "outputs": [],
   "source": []
  },
  {
   "cell_type": "code",
   "execution_count": null,
   "metadata": {},
   "outputs": [],
   "source": []
  }
 ],
 "metadata": {
  "kernelspec": {
   "display_name": "Python 3",
   "language": "python",
   "name": "python3"
  },
  "language_info": {
   "codemirror_mode": {
    "name": "ipython",
    "version": 3
   },
   "file_extension": ".py",
   "mimetype": "text/x-python",
   "name": "python",
   "nbconvert_exporter": "python",
   "pygments_lexer": "ipython3",
   "version": "3.7.4"
  }
 },
 "nbformat": 4,
 "nbformat_minor": 2
}
